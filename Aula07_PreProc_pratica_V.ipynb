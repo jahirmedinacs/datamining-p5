{
 "cells": [
  {
   "cell_type": "markdown",
   "metadata": {},
   "source": [
    "## Aula 07 - Pré-Processamento - Parte V\n",
    "\n",
    "Objetivos da prática:\n",
    "- Analisar ténicas simples para tratar desbalanceamento;\n",
    "- Fazer conversão entre tipos;\n",
    "- Normalizar os dados.\n"
   ]
  },
  {
   "cell_type": "markdown",
   "metadata": {},
   "source": [
    "\n",
    "---\n",
    "---\n",
    "\n",
    "### Funções utilizadas na prática\n",
    "\n",
    "DataFrame\n",
    "\n",
    "- sample(n=None, frac=None, replace=False, weights=None, random_state=None, axis=None)\n",
    "\n",
    "\n",
    "scikitlearn\n",
    "\n",
    "- Procurar pelo módulo preprocessing\n",
    "\n",
    "\n",
    "SciPy.stats\n",
    "\n",
    "- zscore(a, axis=0, ddof=0)\n",
    "\n"
   ]
  },
  {
   "cell_type": "markdown",
   "metadata": {},
   "source": [
    "\n",
    "---\n",
    "---\n",
    "\n",
    "\n",
    "## Prática V\n",
    "\n",
    "\n",
    "---\n",
    "\n",
    "\n",
    "**Escolha apenas UM dataset de CLASSIFACAÇÃO para realizar os exercícios abaixo. Caso você não tenha utilizado um dataset desse tipo anteriormente escolha um novo para essa prática.**\n",
    "\n",
    "\n",
    "1- O desbalanceamento, em geral, causa problemas para a classificação. Trate o desbalanceamento utilizando as abordagens de subamostragem, superamostragem. Mostre a distribuição das classes após o balanceamento.\n",
    "\n",
    "Para realizar a subamostragem e a superamostragem chame a função *sample* do DataFrame. Abaixo tem um exemplo de como utilizar essa função.\n",
    "\n",
    "Utilize a função classificação definida abaixo ajustando o parâmetro *weights* para um valor que você ache adequado. Esse parâmetro faz com que o algoritmo de classificação leve em conta o peso da classe no processo de treinamento. Utilize 2 valores de *weights* diferentes e comente o resultado (o que você acha que mudou com esses valores diferentes de *weights*). \n",
    "\n",
    "\n",
    "2- Faça a conversão entre tipos para dois atributos. Escolha as conversões que achar mais adequada, quantitativo para qualitativo ou qualitativo para quantitativo. Explique o que você fez e porque achou essa a melhor forma de fazer.\n",
    "Para referência consulte os slides 9-21.\n",
    "\n",
    "Esse tipo de conversão é importante pois se você for utilizar uma rede neural artificial. Quando temos uma classe numérica como no wine, 0,1,2, é melhor transformar a classe em 3 colunas e a primeira coluna é 1 quando a classe for 0, a segunda coluna tem valor 1 quando a classe for 1, e a terceira coluna é 1 quando a classe for 2. Isso resulta numa rede neual com 3 neuronios na saída onde cada neurônio sinaliza uma das classes. Esse processo também ajuda na convergencia da rede neural artificial.\n",
    "    \n",
    "    \n",
    "3- Realize a normalização de duas colunas. Para normalizar utilize a abordagem 0-1 (slide 27) e z-score (slide 29).\n",
    "Apresente métricas que comprove que a normalização foi realizada (boxplot, histograma, ...).\n",
    "\n",
    "\n",
    "\n",
    "OBS: A etapa de pré-processamento deve ser feita pensando nos passos seguintes. Por exemplo, se penso em utilizar posteriormente um algoritmo de classificação que necessita atributos numéricos no intervalo 0-1 sei que preciso remover os atributos não numéricos, ou transformá-los em numéricos, e fazer a normalização 0-1. \n",
    "Outro exemplo é o das funções simples mostradas no slide 24, o log e a raíz quadrada aproximam os dados de uma normal, logo se sua abordagem supoe normalidade dos dados pode ser interessante aplicar alguma dessas funções.\n",
    "\n",
    "\n",
    "\n",
    "---\n",
    "## Entrega\n",
    "A entrega da prática deve ser feita em formato de notebook do jupyter. Crie um notebook seu, nas primeiras linhas identifique os membros da dupla, salve o notebook com o nome pratica_2_nUSP1_nUSP2.\n",
    "Submeta no tidia apenas o arquivo do notebook .ipynb, não crie pastas para separar as práticas, apenas faça o upload do arquivo .ipynb\n",
    "Não precisa fazer o upload dos datasets utilizados.\n",
    "A resolução desta prática deve seguir a mesma maneira da anterior. No corpo da prática primeiro identifique qual o conjunto de dados escolhido e começe a responder as perguntas no corpo do notebook. Procure utilizar as caixas de texto para a discussão (o notebook tem caixas de texto e de código).\n",
    "\n",
    "\n",
    "\n",
    "\n"
   ]
  },
  {
   "cell_type": "markdown",
   "metadata": {},
   "source": [
    "----\n",
    "Exemplo de uso da função *sample*"
   ]
  },
  {
   "cell_type": "code",
   "execution_count": 75,
   "metadata": {},
   "outputs": [
    {
     "name": "stdout",
     "output_type": "stream",
     "text": [
      "Distribuição de classes original\n",
      "        alcohol\n",
      "target         \n",
      "0.0          59\n",
      "1.0          71\n",
      "2.0          48\n",
      "\n",
      "Distribuição de classes amostrada mas com as mesmas probs da original\n",
      "{0: 0.33146067415730335, 1: 0.398876404494382, 2: 0.2696629213483146}\n",
      "        alcohol\n",
      "target         \n",
      "0.0          59\n",
      "1.0          85\n",
      "2.0          34\n",
      "\n",
      "Distribuição de classes amostrada com probs iguais\n",
      "        alcohol\n",
      "target         \n",
      "0.0          63\n",
      "1.0          74\n",
      "2.0          41\n",
      "\n",
      "\n",
      "Fixando o número de exemplos por classe em 50\n",
      "        alcohol\n",
      "target         \n",
      "0.0          50\n",
      "1.0          50\n",
      "2.0          50\n"
     ]
    }
   ],
   "source": [
    "\n",
    "import pandas as pd\n",
    "import numpy as np\n",
    "from matplotlib import pyplot as plt\n",
    "import seaborn as sns\n",
    "from sklearn import datasets\n",
    "\n",
    "wine = datasets.load_wine()\n",
    "target_names = wine['target_names']\n",
    "wine = pd.DataFrame(data= np.c_[wine['data'], wine['target']],\n",
    "                     columns= wine['feature_names'] + ['target'])\n",
    "\n",
    "# mostrar a quantidade de exemplos de cada classe\n",
    "print('Distribuição de classes original')\n",
    "print(wine.iloc[:, [0,-1]].groupby('target').count())\n",
    "# temos 59 exemplos da classe 0.0, 71 da classe 1.0 e 48 da classe 2.0\n",
    "\n",
    "# agora amostrando para deixar dataset balanceado\n",
    "\n",
    "# podemos utilizar o parâmetro n ou frac, olhar documentação\n",
    "total = len(wine)\n",
    "\n",
    "# dicionario com a probabilidade das classes\n",
    "probs = {0: 59/total, 1: 71/total, 2: 48/total}\n",
    "# para utilizar o parametro weight é preciso passar um vetor com a probabilidade para cada amostra\n",
    "sample_probs = wine.target.copy()\n",
    "for c in wine.target.unique():\n",
    "    sample_probs[sample_probs == c] = probs[c]\n",
    "dt_bl = wine.sample(frac=1, replace=True, weights=sample_probs.tolist())\n",
    "print('\\nDistribuição de classes amostrada mas com as mesmas probs da original')\n",
    "print(probs)\n",
    "print(dt_bl.iloc[:, [0,-1]].groupby('target').count())\n",
    "\n",
    "# mudando para probabilidade igual para todas as classes\n",
    "probs = {0: 1-59/total, 1: 1-71/total, 2: 1-48/total}\n",
    "probs = {0: 1/4, 1: 1/4, 2: 1/2}\n",
    "probs = {0: 1, 1: 1, 2: 1}\n",
    "#probs = {0: 0.1, 1: 0.1, 2: 0.8}\n",
    "# para utilizar o parametro weight é preciso passar um vetor com a probabilidade para cada amostra\n",
    "sample_probs = wine.target.copy()\n",
    "for c in wine.target.unique():\n",
    "    sample_probs[sample_probs == c] = probs[c]\n",
    "dt_bl = wine.sample(frac=1, replace=True, weights=sample_probs)\n",
    "print('\\nDistribuição de classes amostrada com probs iguais')\n",
    "#print(sample_probs.tolist())\n",
    "#print(probs)\n",
    "#print(np.sum(list(probs.values())))\n",
    "print(dt_bl.iloc[:, [0,-1]].groupby('target').count())\n",
    "\n",
    "\n",
    "# Atenção mesmo colocando um valor para a probabilidade não tem-se a garantia\n",
    "# de que o valor exato será escolhido pois há o fator do acaso nessa amostragem\n",
    "\n",
    "\n",
    "# é possível também fazer uma amostragem por classe criando dataframes diferentes e concatenando depois\n",
    "# dessa forma é possível selecionar um número desejado de amostras por classe\n",
    "# essa é uma das forma de se realizar a sub e superamostragem\n",
    "dt_bl = [wine.loc[wine.target == c, :].sample(n=50, replace=True) for c in wine.target.unique()]\n",
    "print('\\n\\nFixando o número de exemplos por classe em 50')\n",
    "#print(sample_probs.tolist())\n",
    "#print(probs)\n",
    "#print(np.sum(list(probs.values())))\n",
    "dt_bl = pd.concat(dt_bl)\n",
    "print(dt_bl.iloc[:, [0,-1]].groupby('target').count())\n",
    "\n",
    "\n"
   ]
  },
  {
   "cell_type": "markdown",
   "metadata": {},
   "source": [
    "---\n",
    "Definição da função classificacao"
   ]
  },
  {
   "cell_type": "code",
   "execution_count": 63,
   "metadata": {},
   "outputs": [],
   "source": [
    "from sklearn.svm import SVC, SVR\n",
    "from sklearn.tree import DecisionTreeClassifier, DecisionTreeRegressor\n",
    "from sklearn.neighbors import KNeighborsClassifier, KNeighborsRegressor\n",
    "\n",
    "from sklearn.model_selection import KFold\n",
    "from sklearn.metrics import mean_squared_error\n",
    "from numpy import mean, std\n",
    "\n",
    "\n",
    "def classificacao(data, columns, target, weights):\n",
    "    \"\"\"\n",
    "    Executa classificação do conjunto de dados passado\n",
    "    ---------------------------------------------------------------\n",
    "    data:       DataFrame. Conjunto de dados\n",
    "    columns:    Lista de inteiros. Índice das colunas utilizadas no treinamento e teste\n",
    "    target:     Inteiro. Índice da coluna alvo\n",
    "    weights:    Dicionário. Pesos das classes, cada chave do dicionário é a classe e seu valor a probabilidade\n",
    "    ---------------------------------------------------------------\n",
    "    Realiza a classificação em 3 modelos (SVM com kernel linear, \n",
    "    SVM com kernel polinomial de grau 3, Árvore de decisão)\n",
    "    Plot o gráfico de desempenho para cada classificador.\n",
    "    Retorna um dicionário com os classificadores treinados e as medidas de desempenho\n",
    "    \"\"\"\n",
    "    \n",
    "    # inicializa os modelos com os parâmetros solicitados\n",
    "    svm_l = SVC(C=10*len(data), kernel='linear', cache_size=500, max_iter=1e6, class_weight=weights)\n",
    "    svm_n = SVC(C=10*len(data), kernel='poly', degree=3, gamma=1, coef0=1, cache_size=500, max_iter=1e6, class_weight=weights)\n",
    "    dt = DecisionTreeClassifier(criterion='gini', splitter='best', min_samples_split=int(len(data)*0.1), class_weight=weights)\n",
    "    \n",
    "    clfs = [svm_l, svm_n, dt]\n",
    "    clfs_names = ['svm_linear', 'svm_poly', 'dt']\n",
    "    \n",
    "    # prepara validação cruzada\n",
    "    # faz divisão do dataset em 5 partes\n",
    "    cv = KFold(n_splits=5, shuffle=True)\n",
    "    \n",
    "    # itera para cada classificador fazendo treino e teste\n",
    "    results = {'svm_linear':[], 'svm_poly':[], 'dt':[]}\n",
    "    for c, c_name in zip(clfs, clfs_names):\n",
    "        for train_index, test_index in cv.split(data):\n",
    "            \n",
    "            # separa conjunto de treino e de teste\n",
    "            x_train, y_train = data.iloc[train_index, columns], data.iloc[train_index, target]\n",
    "            x_test, y_test = data.iloc[test_index, columns], data.iloc[test_index, target]\n",
    "            \n",
    "            # faz o treino do modelo\n",
    "            clf = c.fit(X=x_train, y=y_train)\n",
    "            \n",
    "            # realiza predição no conjunto de teste e salva o resultado\n",
    "            results[c_name].append( clf.score(x_test, y_test) )\n",
    "    \n",
    "    # faz o plot de desempenho dos classificadores\n",
    "    plt.figure(figsize=(8,8))\n",
    "    plt.bar(range(1, len(clfs)+1), [mean(results[name]) for name in clfs_names], \n",
    "                                yerr=[std(results[name]) for name in clfs_names])\n",
    "    plt.xticks(range(1, len(clfs)+1), clfs_names, rotation=45)\n",
    "    title = 'Desempenho dos classificadores - acurácia'\n",
    "    plt.title(title)\n",
    "    plt.show()\n",
    "    \n",
    "    return {'results': results, 'clfs':clfs}\n",
    "\n"
   ]
  },
  {
   "cell_type": "markdown",
   "metadata": {},
   "source": [
    "---\n",
    "Exemplo de uso da função classificacao com o parametro weights"
   ]
  },
  {
   "cell_type": "code",
   "execution_count": 74,
   "metadata": {
    "scrolled": false
   },
   "outputs": [
    {
     "name": "stdout",
     "output_type": "stream",
     "text": [
      "[0, 1, 2, 3, 4, 5, 6, 7, 8, 9, 10, 11, 12]\n",
      "13\n"
     ]
    },
    {
     "name": "stderr",
     "output_type": "stream",
     "text": [
      "/usr/lib/python3.6/site-packages/sklearn/svm/base.py:218: ConvergenceWarning: Solver terminated early (max_iter=1000000).  Consider pre-processing your data with StandardScaler or MinMaxScaler.\n",
      "  % self.max_iter, ConvergenceWarning)\n",
      "/usr/lib/python3.6/site-packages/sklearn/svm/base.py:218: ConvergenceWarning: Solver terminated early (max_iter=1000000).  Consider pre-processing your data with StandardScaler or MinMaxScaler.\n",
      "  % self.max_iter, ConvergenceWarning)\n",
      "/usr/lib/python3.6/site-packages/sklearn/svm/base.py:218: ConvergenceWarning: Solver terminated early (max_iter=1000000).  Consider pre-processing your data with StandardScaler or MinMaxScaler.\n",
      "  % self.max_iter, ConvergenceWarning)\n"
     ]
    },
    {
     "data": {
      "image/png": "[encoded data removed]",
      "text/plain": [
       "<Figure size 576x576 with 1 Axes>"
      ]
     },
     "metadata": {},
     "output_type": "display_data"
    },
    {
     "data": {
      "image/png": "[encoded data removed]",
      "text/plain": [
       "<Figure size 576x576 with 1 Axes>"
      ]
     },
     "metadata": {},
     "output_type": "display_data"
    }
   ],
   "source": [
    "# EXEMPLO DE CLASSIFICACAO\n",
    "\n",
    "import pandas as pd\n",
    "import numpy as np\n",
    "from matplotlib import pyplot as plt\n",
    "import seaborn as sns\n",
    "from sklearn import datasets\n",
    "\n",
    "wine = datasets.load_wine()\n",
    "target_names = wine['target_names']\n",
    "wine = pd.DataFrame(data= np.c_[wine['data'], wine['target']],\n",
    "                     columns= wine['feature_names'] + ['target'])\n",
    "\n",
    "target = len(wine.columns) -1\n",
    "columns = list(range(target))\n",
    "\n",
    "\n",
    "#columns = [0,1,2]\n",
    "#target = 3\n",
    "#dataset = wine.iloc[:, [0,1,1, target]]\n",
    "\n",
    "print(columns)\n",
    "print(target)\n",
    "\n",
    "# classe 0 com probabilidade 98%, classes 1 e 2 com probs 1%\n",
    "clf = classificacao(wine, columns, target, weights={0:0.98, 1:0.01, 2:0.01})\n",
    "\n",
    "\n",
    "# classe 0 com probabilidade 100%, classes 1 e 2 com probs 0%\n",
    "clf = classificacao(wine, columns, target, weights={0:1, 1:0, 2:0})\n"
   ]
  },
  {
   "cell_type": "code",
   "execution_count": null,
   "metadata": {},
   "outputs": [],
   "source": [
    "\n"
   ]
  },
  {
   "cell_type": "code",
   "execution_count": null,
   "metadata": {},
   "outputs": [],
   "source": []
  },
  {
   "cell_type": "code",
   "execution_count": null,
   "metadata": {
    "scrolled": false
   },
   "outputs": [],
   "source": []
  }
 ],
 "metadata": {
  "kernelspec": {
   "display_name": "Python 3",
   "language": "python",
   "name": "python3"
  },
  "language_info": {
   "codemirror_mode": {
    "name": "ipython",
    "version": 3
   },
   "file_extension": ".py",
   "mimetype": "text/x-python",
   "name": "python",
   "nbconvert_exporter": "python",
   "pygments_lexer": "ipython3",
   "version": "3.7.0"
  }
 },
 "nbformat": 4,
 "nbformat_minor": 2
}
